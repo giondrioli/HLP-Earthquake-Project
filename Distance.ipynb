{
 "cells": [
  {
   "cell_type": "code",
   "execution_count": 2,
   "id": "21ad538b",
   "metadata": {},
   "outputs": [],
   "source": [
    "import pandas as pd\n",
    "import numpy as np\n",
    "import matplotlib.pyplot as plt\n",
    "from IPython.display import Image"
   ]
  },
  {
   "cell_type": "code",
   "execution_count": 4,
   "id": "ec405c7f",
   "metadata": {},
   "outputs": [
    {
     "data": {
      "text/html": [
       "<div>\n",
       "<style scoped>\n",
       "    .dataframe tbody tr th:only-of-type {\n",
       "        vertical-align: middle;\n",
       "    }\n",
       "\n",
       "    .dataframe tbody tr th {\n",
       "        vertical-align: top;\n",
       "    }\n",
       "\n",
       "    .dataframe thead th {\n",
       "        text-align: right;\n",
       "    }\n",
       "</style>\n",
       "<table border=\"1\" class=\"dataframe\">\n",
       "  <thead>\n",
       "    <tr style=\"text-align: right;\">\n",
       "      <th></th>\n",
       "      <th>index</th>\n",
       "      <th>p_index</th>\n",
       "      <th>time</th>\n",
       "      <th>magnitude</th>\n",
       "      <th>latitude</th>\n",
       "      <th>longitude</th>\n",
       "      <th>depth</th>\n",
       "    </tr>\n",
       "  </thead>\n",
       "  <tbody>\n",
       "    <tr>\n",
       "      <th>0</th>\n",
       "      <td>1</td>\n",
       "      <td>0</td>\n",
       "      <td>3.650139e+04</td>\n",
       "      <td>2.12</td>\n",
       "      <td>-2363740</td>\n",
       "      <td>-4787011</td>\n",
       "      <td>3461373</td>\n",
       "    </tr>\n",
       "    <tr>\n",
       "      <th>1</th>\n",
       "      <td>2</td>\n",
       "      <td>0</td>\n",
       "      <td>3.748828e+04</td>\n",
       "      <td>2.33</td>\n",
       "      <td>-2363746</td>\n",
       "      <td>-4786942</td>\n",
       "      <td>3461232</td>\n",
       "    </tr>\n",
       "    <tr>\n",
       "      <th>2</th>\n",
       "      <td>3</td>\n",
       "      <td>0</td>\n",
       "      <td>4.798252e+04</td>\n",
       "      <td>2.57</td>\n",
       "      <td>-2475085</td>\n",
       "      <td>-4664024</td>\n",
       "      <td>3548479</td>\n",
       "    </tr>\n",
       "    <tr>\n",
       "      <th>3</th>\n",
       "      <td>4</td>\n",
       "      <td>0</td>\n",
       "      <td>6.026857e+04</td>\n",
       "      <td>2.98</td>\n",
       "      <td>-2238642</td>\n",
       "      <td>-4839098</td>\n",
       "      <td>3469546</td>\n",
       "    </tr>\n",
       "    <tr>\n",
       "      <th>4</th>\n",
       "      <td>5</td>\n",
       "      <td>0</td>\n",
       "      <td>1.006128e+05</td>\n",
       "      <td>2.04</td>\n",
       "      <td>-2545592</td>\n",
       "      <td>-4588519</td>\n",
       "      <td>3597315</td>\n",
       "    </tr>\n",
       "    <tr>\n",
       "      <th>...</th>\n",
       "      <td>...</td>\n",
       "      <td>...</td>\n",
       "      <td>...</td>\n",
       "      <td>...</td>\n",
       "      <td>...</td>\n",
       "      <td>...</td>\n",
       "      <td>...</td>\n",
       "    </tr>\n",
       "    <tr>\n",
       "      <th>110265</th>\n",
       "      <td>110266</td>\n",
       "      <td>-1</td>\n",
       "      <td>9.304996e+08</td>\n",
       "      <td>2.60</td>\n",
       "      <td>-2668492</td>\n",
       "      <td>-4335735</td>\n",
       "      <td>3810743</td>\n",
       "    </tr>\n",
       "    <tr>\n",
       "      <th>110266</th>\n",
       "      <td>110267</td>\n",
       "      <td>-1</td>\n",
       "      <td>9.305115e+08</td>\n",
       "      <td>2.02</td>\n",
       "      <td>-2297480</td>\n",
       "      <td>-4823870</td>\n",
       "      <td>3445285</td>\n",
       "    </tr>\n",
       "    <tr>\n",
       "      <th>110267</th>\n",
       "      <td>110268</td>\n",
       "      <td>-1</td>\n",
       "      <td>9.305318e+08</td>\n",
       "      <td>2.00</td>\n",
       "      <td>-2404797</td>\n",
       "      <td>-4441247</td>\n",
       "      <td>3868121</td>\n",
       "    </tr>\n",
       "    <tr>\n",
       "      <th>110268</th>\n",
       "      <td>110269</td>\n",
       "      <td>-1</td>\n",
       "      <td>9.305363e+08</td>\n",
       "      <td>2.17</td>\n",
       "      <td>-2388375</td>\n",
       "      <td>-4691191</td>\n",
       "      <td>3550903</td>\n",
       "    </tr>\n",
       "    <tr>\n",
       "      <th>110269</th>\n",
       "      <td>110270</td>\n",
       "      <td>-1</td>\n",
       "      <td>9.305667e+08</td>\n",
       "      <td>3.27</td>\n",
       "      <td>-2579453</td>\n",
       "      <td>-4409462</td>\n",
       "      <td>3774036</td>\n",
       "    </tr>\n",
       "  </tbody>\n",
       "</table>\n",
       "<p>110270 rows × 7 columns</p>\n",
       "</div>"
      ],
      "text/plain": [
       "         index  p_index          time  magnitude  latitude  longitude    depth\n",
       "0            1        0  3.650139e+04       2.12  -2363740   -4787011  3461373\n",
       "1            2        0  3.748828e+04       2.33  -2363746   -4786942  3461232\n",
       "2            3        0  4.798252e+04       2.57  -2475085   -4664024  3548479\n",
       "3            4        0  6.026857e+04       2.98  -2238642   -4839098  3469546\n",
       "4            5        0  1.006128e+05       2.04  -2545592   -4588519  3597315\n",
       "...        ...      ...           ...        ...       ...        ...      ...\n",
       "110265  110266       -1  9.304996e+08       2.60  -2668492   -4335735  3810743\n",
       "110266  110267       -1  9.305115e+08       2.02  -2297480   -4823870  3445285\n",
       "110267  110268       -1  9.305318e+08       2.00  -2404797   -4441247  3868121\n",
       "110268  110269       -1  9.305363e+08       2.17  -2388375   -4691191  3550903\n",
       "110269  110270       -1  9.305667e+08       3.27  -2579453   -4409462  3774036\n",
       "\n",
       "[110270 rows x 7 columns]"
      ]
     },
     "execution_count": 4,
     "metadata": {},
     "output_type": "execute_result"
    }
   ],
   "source": [
    "df = pd.read_table(\"SouthCalifornia-1982-2011.dat\",sep=\" \")\n",
    "col= ['index','p_index', 'time', 'magnitude','latitude' ,'longitude','depth']\n",
    "df.columns= col\n",
    "df"
   ]
  },
  {
   "cell_type": "code",
   "execution_count": 5,
   "id": "1730a436",
   "metadata": {},
   "outputs": [],
   "source": [
    "# Just to make sure to sort the data according to time\n",
    "df = df.sort_values(by=['time'])\n"
   ]
  },
  {
   "cell_type": "code",
   "execution_count": 6,
   "id": "ac1002ad",
   "metadata": {},
   "outputs": [
    {
     "name": "stdout",
     "output_type": "stream",
     "text": [
      "There are total 39179 Earthquake Having Magnitue >=  2.5\n"
     ]
    }
   ],
   "source": [
    "# setting the values of magnitude\n",
    "\n",
    "mag = 2.50\n",
    "\n",
    "df_mag = df[df['magnitude']>=mag]\n",
    "\n",
    "# df_mag.shape\n",
    "\n",
    "print(\"There are total\",df_mag.shape[0],\"Earthquake Having Magnitue >= \",mag)"
   ]
  },
  {
   "cell_type": "code",
   "execution_count": 7,
   "id": "ade527c6",
   "metadata": {},
   "outputs": [
    {
     "data": {
      "text/html": [
       "<div>\n",
       "<style scoped>\n",
       "    .dataframe tbody tr th:only-of-type {\n",
       "        vertical-align: middle;\n",
       "    }\n",
       "\n",
       "    .dataframe tbody tr th {\n",
       "        vertical-align: top;\n",
       "    }\n",
       "\n",
       "    .dataframe thead th {\n",
       "        text-align: right;\n",
       "    }\n",
       "</style>\n",
       "<table border=\"1\" class=\"dataframe\">\n",
       "  <thead>\n",
       "    <tr style=\"text-align: right;\">\n",
       "      <th></th>\n",
       "      <th>index</th>\n",
       "      <th>p_index</th>\n",
       "      <th>time</th>\n",
       "      <th>magnitude</th>\n",
       "      <th>latitude</th>\n",
       "      <th>longitude</th>\n",
       "      <th>depth</th>\n",
       "      <th>distance</th>\n",
       "    </tr>\n",
       "  </thead>\n",
       "  <tbody>\n",
       "    <tr>\n",
       "      <th>2</th>\n",
       "      <td>3</td>\n",
       "      <td>0</td>\n",
       "      <td>4.798252e+04</td>\n",
       "      <td>2.57</td>\n",
       "      <td>-2475085</td>\n",
       "      <td>-4664024</td>\n",
       "      <td>3548479</td>\n",
       "      <td>304608.956227</td>\n",
       "    </tr>\n",
       "    <tr>\n",
       "      <th>3</th>\n",
       "      <td>4</td>\n",
       "      <td>0</td>\n",
       "      <td>6.026857e+04</td>\n",
       "      <td>2.98</td>\n",
       "      <td>-2238642</td>\n",
       "      <td>-4839098</td>\n",
       "      <td>3469546</td>\n",
       "      <td>427642.769023</td>\n",
       "    </tr>\n",
       "    <tr>\n",
       "      <th>6</th>\n",
       "      <td>7</td>\n",
       "      <td>0</td>\n",
       "      <td>1.275294e+05</td>\n",
       "      <td>2.64</td>\n",
       "      <td>-2484433</td>\n",
       "      <td>-4558759</td>\n",
       "      <td>3679010</td>\n",
       "      <td>59631.470031</td>\n",
       "    </tr>\n",
       "    <tr>\n",
       "      <th>7</th>\n",
       "      <td>8</td>\n",
       "      <td>0</td>\n",
       "      <td>1.303646e+05</td>\n",
       "      <td>2.62</td>\n",
       "      <td>-2429713</td>\n",
       "      <td>-4582352</td>\n",
       "      <td>3681247</td>\n",
       "      <td>429208.942882</td>\n",
       "    </tr>\n",
       "    <tr>\n",
       "      <th>11</th>\n",
       "      <td>12</td>\n",
       "      <td>0</td>\n",
       "      <td>2.425680e+05</td>\n",
       "      <td>2.66</td>\n",
       "      <td>-2372004</td>\n",
       "      <td>-4855764</td>\n",
       "      <td>3355462</td>\n",
       "      <td>326515.945039</td>\n",
       "    </tr>\n",
       "    <tr>\n",
       "      <th>...</th>\n",
       "      <td>...</td>\n",
       "      <td>...</td>\n",
       "      <td>...</td>\n",
       "      <td>...</td>\n",
       "      <td>...</td>\n",
       "      <td>...</td>\n",
       "      <td>...</td>\n",
       "      <td>...</td>\n",
       "    </tr>\n",
       "    <tr>\n",
       "      <th>110252</th>\n",
       "      <td>110253</td>\n",
       "      <td>-1</td>\n",
       "      <td>9.302818e+08</td>\n",
       "      <td>2.70</td>\n",
       "      <td>-2316226</td>\n",
       "      <td>-4689520</td>\n",
       "      <td>3619881</td>\n",
       "      <td>198823.225799</td>\n",
       "    </tr>\n",
       "    <tr>\n",
       "      <th>110257</th>\n",
       "      <td>110258</td>\n",
       "      <td>-1</td>\n",
       "      <td>9.303677e+08</td>\n",
       "      <td>2.57</td>\n",
       "      <td>-2300293</td>\n",
       "      <td>-4809968</td>\n",
       "      <td>3462499</td>\n",
       "      <td>687366.907554</td>\n",
       "    </tr>\n",
       "    <tr>\n",
       "      <th>110260</th>\n",
       "      <td>110261</td>\n",
       "      <td>-1</td>\n",
       "      <td>9.304017e+08</td>\n",
       "      <td>2.50</td>\n",
       "      <td>-2656549</td>\n",
       "      <td>-4334839</td>\n",
       "      <td>3808631</td>\n",
       "      <td>143269.660434</td>\n",
       "    </tr>\n",
       "    <tr>\n",
       "      <th>110261</th>\n",
       "      <td>110262</td>\n",
       "      <td>-1</td>\n",
       "      <td>9.304458e+08</td>\n",
       "      <td>2.60</td>\n",
       "      <td>-2657612</td>\n",
       "      <td>-4436323</td>\n",
       "      <td>3707507</td>\n",
       "      <td>144547.541799</td>\n",
       "    </tr>\n",
       "    <tr>\n",
       "      <th>110265</th>\n",
       "      <td>110266</td>\n",
       "      <td>-1</td>\n",
       "      <td>9.304996e+08</td>\n",
       "      <td>2.60</td>\n",
       "      <td>-2668492</td>\n",
       "      <td>-4335735</td>\n",
       "      <td>3810743</td>\n",
       "      <td>121288.985069</td>\n",
       "    </tr>\n",
       "  </tbody>\n",
       "</table>\n",
       "<p>39178 rows × 8 columns</p>\n",
       "</div>"
      ],
      "text/plain": [
       "         index  p_index          time  magnitude  latitude  longitude  \\\n",
       "2            3        0  4.798252e+04       2.57  -2475085   -4664024   \n",
       "3            4        0  6.026857e+04       2.98  -2238642   -4839098   \n",
       "6            7        0  1.275294e+05       2.64  -2484433   -4558759   \n",
       "7            8        0  1.303646e+05       2.62  -2429713   -4582352   \n",
       "11          12        0  2.425680e+05       2.66  -2372004   -4855764   \n",
       "...        ...      ...           ...        ...       ...        ...   \n",
       "110252  110253       -1  9.302818e+08       2.70  -2316226   -4689520   \n",
       "110257  110258       -1  9.303677e+08       2.57  -2300293   -4809968   \n",
       "110260  110261       -1  9.304017e+08       2.50  -2656549   -4334839   \n",
       "110261  110262       -1  9.304458e+08       2.60  -2657612   -4436323   \n",
       "110265  110266       -1  9.304996e+08       2.60  -2668492   -4335735   \n",
       "\n",
       "          depth       distance  \n",
       "2       3548479  304608.956227  \n",
       "3       3469546  427642.769023  \n",
       "6       3679010   59631.470031  \n",
       "7       3681247  429208.942882  \n",
       "11      3355462  326515.945039  \n",
       "...         ...            ...  \n",
       "110252  3619881  198823.225799  \n",
       "110257  3462499  687366.907554  \n",
       "110260  3808631  143269.660434  \n",
       "110261  3707507  144547.541799  \n",
       "110265  3810743  121288.985069  \n",
       "\n",
       "[39178 rows x 8 columns]"
      ]
     },
     "execution_count": 7,
     "metadata": {},
     "output_type": "execute_result"
    }
   ],
   "source": [
    "# Computing the distance\n",
    "\n",
    "df_mag1 = df_mag.copy()\n",
    "\n",
    "df_mag1['distance'] = np.sqrt((df_mag['longitude'].diff(periods=-1))**2 + (df_mag['latitude'].diff(periods=-1))**2 + (df_mag['depth'].diff(periods=-1))**2)\n",
    "# df_mag\n",
    "df_mag1.dropna() # the last row is empty so the NULL values\n"
   ]
  },
  {
   "cell_type": "code",
   "execution_count": 10,
   "id": "baa1a491",
   "metadata": {},
   "outputs": [
    {
     "data": {
      "image/png": "[encoded data removed]",
      "text/plain": [
       "<Figure size 720x432 with 1 Axes>"
      ]
     },
     "metadata": {
      "needs_background": "light"
     },
     "output_type": "display_data"
    }
   ],
   "source": [
    "# Ploting the data on histogram\n",
    "bin=3500\n",
    "\n",
    "fig , ax = plt.subplots(figsize=(10,6))\n",
    "\n",
    "ax.hist(df_mag1['distance'], bins=bin)\n",
    "# plt.axis([-10000, 800000, 0, 600])\n",
    "ax.set_xlim(-10000,800000)\n",
    "\n",
    "plt.show()\n",
    "\n"
   ]
  },
  {
   "cell_type": "code",
   "execution_count": 11,
   "id": "fcf411c5",
   "metadata": {},
   "outputs": [
    {
     "name": "stdout",
     "output_type": "stream",
     "text": [
      "The result for trying different values of Magnitude, we obtained the following result\n",
      "There are total 11923 Earthquake Having Magnitue >=  3\n"
     ]
    },
    {
     "data": {
      "image/png": "[encoded data removed]",
      "text/plain": [
       "<Figure size 720x432 with 1 Axes>"
      ]
     },
     "metadata": {
      "needs_background": "light"
     },
     "output_type": "display_data"
    },
    {
     "name": "stdout",
     "output_type": "stream",
     "text": [
      "There are total 3638 Earthquake Having Magnitue >=  3.5\n"
     ]
    },
    {
     "data": {
      "image/png": "[encoded data removed]",
      "text/plain": [
       "<Figure size 720x432 with 1 Axes>"
      ]
     },
     "metadata": {
      "needs_background": "light"
     },
     "output_type": "display_data"
    },
    {
     "name": "stdout",
     "output_type": "stream",
     "text": [
      "There are total 1133 Earthquake Having Magnitue >=  4\n"
     ]
    },
    {
     "data": {
      "image/png": "[encoded data removed]",
      "text/plain": [
       "<Figure size 720x432 with 1 Axes>"
      ]
     },
     "metadata": {
      "needs_background": "light"
     },
     "output_type": "display_data"
    },
    {
     "name": "stdout",
     "output_type": "stream",
     "text": [
      "There are total 109 Earthquake Having Magnitue >=  5\n"
     ]
    },
    {
     "data": {
      "image/png": "[encoded data removed]",
      "text/plain": [
       "<Figure size 720x432 with 1 Axes>"
      ]
     },
     "metadata": {
      "needs_background": "light"
     },
     "output_type": "display_data"
    },
    {
     "name": "stdout",
     "output_type": "stream",
     "text": [
      "There are total 13 Earthquake Having Magnitue >=  6\n"
     ]
    },
    {
     "data": {
      "image/png": "[encoded data removed]",
      "text/plain": [
       "<Figure size 720x432 with 1 Axes>"
      ]
     },
     "metadata": {
      "needs_background": "light"
     },
     "output_type": "display_data"
    }
   ],
   "source": [
    "# trying different values of Magnitude ( m )\n",
    "print(\"The result for trying different values of Magnitude, we obtained the following result\")\n",
    "m = [3, 3.5 , 4, 5, 6]\n",
    "for i in range (len(m)):\n",
    "    df_mag = df[df['magnitude']>=m[i]]\n",
    "    print(\"There are total\",df_mag.shape[0],\"Earthquake Having Magnitue >= \",m[i])\n",
    "    \n",
    "    \n",
    "    df_mag1 = df_mag.copy()\n",
    "    df_mag1['distance'] = np.sqrt((df_mag['longitude'].diff(periods=-1))**2 + (df_mag['latitude'].diff(periods=-1))**2 + (df_mag['depth'].diff(periods=-1))**2)\n",
    "    df_mag1.dropna()\n",
    "    \n",
    "    \n",
    "    fig , ax = plt.subplots(figsize=(10,6))\n",
    "    ax.hist(df_mag1['distance'], bins=bin)\n",
    "    # plt.axis([-10000, 800000, 0, 600])\n",
    "    ax.set_xlim(-10000,800000)\n",
    "    plt.show()\n",
    "\n",
    "    \n"
   ]
  },
  {
   "cell_type": "code",
   "execution_count": 14,
   "id": "403b30f6",
   "metadata": {},
   "outputs": [
    {
     "data": {
      "text/plain": [
       "<matplotlib.collections.PathCollection at 0x1b448205a00>"
      ]
     },
     "execution_count": 14,
     "metadata": {},
     "output_type": "execute_result"
    },
    {
     "data": {
      "image/png": "[encoded data removed]",
      "text/plain": [
       "<Figure size 432x288 with 1 Axes>"
      ]
     },
     "metadata": {
      "needs_background": "light"
     },
     "output_type": "display_data"
    }
   ],
   "source": [
    "#fitting line \n",
    "plt.scatter(df_mag1['distance'], df_mag1['time']  )"
   ]
  },
  {
   "cell_type": "code",
   "execution_count": null,
   "id": "3c6362e2",
   "metadata": {},
   "outputs": [],
   "source": [
    "# references to find the distance for hypocenter \n",
    "# https://gfzpublic.gfz-potsdam.de/rest/items/item_43361/component/file_816919/content\n",
    "# https://statisticsbyjim.com/hypothesis-testing/identify-distribution-data/\n"
   ]
  }
 ],
 "metadata": {
  "kernelspec": {
   "display_name": "Python 3 (ipykernel)",
   "language": "python",
   "name": "python3"
  },
  "language_info": {
   "codemirror_mode": {
    "name": "ipython",
    "version": 3
   },
   "file_extension": ".py",
   "mimetype": "text/x-python",
   "name": "python",
   "nbconvert_exporter": "python",
   "pygments_lexer": "ipython3",
   "version": "3.9.7"
  }
 },
 "nbformat": 4,
 "nbformat_minor": 5
}
